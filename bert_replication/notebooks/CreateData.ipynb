{
 "cells": [
  {
   "cell_type": "code",
   "execution_count": null,
   "id": "3e2785af-ec14-4c89-9006-6bcea700e4f9",
   "metadata": {},
   "outputs": [],
   "source": [
    "import pandas as pd\n",
    "from sklearn.model_selection import train_test_split\n",
    "\n",
    "RANDOM_SEED = 42"
   ]
  },
  {
   "cell_type": "code",
   "execution_count": null,
   "id": "e93071f9-fcfc-494d-801d-046960d2ddd4",
   "metadata": {},
   "outputs": [],
   "source": [
    "train = pd.read_csv('../clean_data/dataQT30.csv')\n",
    "test = pd.read_csv('../clean_data/dataQT31-40.csv')"
   ]
  },
  {
   "cell_type": "code",
   "execution_count": null,
   "id": "c43a4b3f-6ff1-4e36-8461-33d486291e89",
   "metadata": {},
   "outputs": [],
   "source": [
    "train_l = train[['L_node_1', 'L_node_2', 'prop_rel']].rename(columns={'L_node_1': 'sentence1', 'L_node_2': 'sentence2', 'prop_rel': 'label'}).copy()\n",
    "train_i = train[['I_node_1', 'I_node_2', 'prop_rel']].rename(columns={'I_node_1': 'sentence1', 'I_node_2': 'sentence2', 'prop_rel': 'label'}).copy()\n",
    "\n",
    "train_l_context = train[['context_L_node', 'L_node_1', 'L_node_2', 'prop_rel']].rename(columns={'L_node_1': 'sentence1', 'L_node_2': 'sentence2', 'prop_rel': 'label'}).copy()\n",
    "train_l_context['sentence1'] = train_l_context['context_L_node'] + ' ' + train_l_context['sentence1']\n",
    "train_l_context.drop(columns=['context_L_node'], inplace=True)\n",
    "\n",
    "train_i_context = train[['context_I_node', 'I_node_1', 'I_node_2', 'prop_rel']].rename(columns={'I_node_1': 'sentence1', 'I_node_2': 'sentence2', 'prop_rel': 'label'}).copy()\n",
    "train_i_context['sentence1'] = train_i_context['context_I_node'] + ' ' + train_i_context['sentence1']\n",
    "train_i_context.drop(columns=['context_I_node'], inplace=True)"
   ]
  },
  {
   "cell_type": "code",
   "execution_count": null,
   "id": "44447e29-f508-4621-a735-9a06192e0867",
   "metadata": {},
   "outputs": [],
   "source": [
    "test_l = test[['L_node_1', 'L_node_2', 'prop_rel']].rename(columns={'L_node_1': 'sentence1', 'L_node_2': 'sentence2', 'prop_rel': 'label'}).copy()\n",
    "test_i = test[['I_node_1', 'I_node_2', 'prop_rel']].rename(columns={'I_node_1': 'sentence1', 'I_node_2': 'sentence2', 'prop_rel': 'label'}).copy()\n",
    "\n",
    "test_l_context = test[['context_L_node', 'L_node_1', 'L_node_2', 'prop_rel']].rename(columns={'L_node_1': 'sentence1', 'L_node_2': 'sentence2', 'prop_rel': 'label'}).copy()\n",
    "test_l_context['sentence1'] = test_l_context['context_L_node'] + ' ' + test_l_context['sentence1']\n",
    "test_l_context.drop(columns=['context_L_node'], inplace=True)\n",
    "\n",
    "test_i_context = test[['context_I_node', 'I_node_1', 'I_node_2', 'prop_rel']].rename(columns={'I_node_1': 'sentence1', 'I_node_2': 'sentence2', 'prop_rel': 'label'}).copy()\n",
    "test_i_context['sentence1'] = test_i_context['context_I_node'] + ' ' + test_i_context['sentence1']\n",
    "test_i_context.drop(columns=['context_I_node'], inplace=True)"
   ]
  },
  {
   "cell_type": "code",
   "execution_count": null,
   "id": "84309e56-cf45-46bd-bb7c-ab07afc4b33a",
   "metadata": {},
   "outputs": [],
   "source": [
    "train_l_only, eval_l_only = train_test_split(train_l, test_size=0.2, stratify=train_l['label'], random_state=RANDOM_SEED)\n",
    "train_i_only, eval_i_only = train_test_split(train_i, test_size=0.2, stratify=train_i['label'], random_state=RANDOM_SEED)\n",
    "\n",
    "train_l_context_only, eval_l_context_only = train_test_split(train_l_context, test_size=0.2, stratify=train_l_context['label'], random_state=RANDOM_SEED)\n",
    "train_i_context_only, eval_i_context_only = train_test_split(train_i_context, test_size=0.2, stratify=train_i_context['label'], random_state=RANDOM_SEED)"
   ]
  },
  {
   "cell_type": "code",
   "execution_count": null,
   "id": "ade19eb2-6e05-4ed2-bac4-e5a3d1374b07",
   "metadata": {},
   "outputs": [],
   "source": [
    "train_l_only.to_csv('../clean_data/train_l.csv', index=False)\n",
    "eval_l_only.to_csv('../clean_data/eval_l.csv', index=False)\n",
    "\n",
    "train_i_only.to_csv('../clean_data/train_i.csv', index=False)\n",
    "eval_i_only.to_csv('../clean_data/eval_i.csv', index=False)\n",
    "\n",
    "train_l_context_only.to_csv('../clean_data/train_l_context.csv', index=False)\n",
    "eval_l_context_only.to_csv('../clean_data/eval_l_context.csv', index=False)\n",
    "\n",
    "train_i_context_only.to_csv('../clean_data/train_i_context.csv', index=False)\n",
    "eval_i_context_only.to_csv('../clean_data/eval_i_context.csv', index=False)"
   ]
  },
  {
   "cell_type": "code",
   "execution_count": null,
   "id": "9410d95e-a019-4d6a-bf64-136a95388daf",
   "metadata": {},
   "outputs": [],
   "source": [
    "test_l.to_csv('../clean_data/test_l.csv', index=False)\n",
    "test_i.to_csv('../clean_data/test_i.csv', index=False)\n",
    "test_l_context.to_csv('../clean_data/test_l_context.csv', index=False)\n",
    "test_i_context.to_csv('../clean_data/test_i_context.csv', index=False)"
   ]
  }
 ],
 "metadata": {
  "kernelspec": {
   "display_name": "Python 3 (ipykernel)",
   "language": "python",
   "name": "python3"
  },
  "language_info": {
   "codemirror_mode": {
    "name": "ipython",
    "version": 3
   },
   "file_extension": ".py",
   "mimetype": "text/x-python",
   "name": "python",
   "nbconvert_exporter": "python",
   "pygments_lexer": "ipython3",
   "version": "3.11.5"
  }
 },
 "nbformat": 4,
 "nbformat_minor": 5
}
