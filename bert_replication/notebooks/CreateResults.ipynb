{
 "cells": [
  {
   "cell_type": "code",
   "execution_count": null,
   "id": "c5c4ad96-8aba-475d-8e0b-bd3838f06800",
   "metadata": {},
   "outputs": [],
   "source": [
    "import pandas as pd\n",
    "import numpy as np\n",
    "import matplotlib.pyplot as plt\n",
    "\n",
    "from sklearn.metrics import confusion_matrix, accuracy_score, balanced_accuracy_score, ConfusionMatrixDisplay, f1_score"
   ]
  },
  {
   "cell_type": "code",
   "execution_count": null,
   "id": "a34304b5-1ce7-4c14-90c7-18ea7589f78f",
   "metadata": {},
   "outputs": [],
   "source": [
    "def create_error_data(result_type, model):\n",
    "    real = pd.read_csv(f'../clean_data/test_{result_type}.csv')\n",
    "    pred = pd.read_csv(f'../clean_results/{model}/{result_type}.txt', sep='\\t')\n",
    "    y_true = real['label']\n",
    "    y_pred = pred['prediction']\n",
    "    real['prediction'] = y_pred\n",
    "    real.to_csv(f'../clean_data/test_with_predictions_{model}_{result_type}.csv', index=False)"
   ]
  },
  {
   "cell_type": "code",
   "execution_count": null,
   "id": "d83f148c-c6b6-4c29-976f-7758a94d7506",
   "metadata": {},
   "outputs": [],
   "source": [
    "create_error_data('i', 'roberta-large')\n",
    "create_error_data('i_context', 'roberta-large')\n",
    "create_error_data('l', 'roberta-large')\n",
    "create_error_data('l_context', 'roberta-large')"
   ]
  },
  {
   "cell_type": "code",
   "execution_count": null,
   "id": "3af26353-a534-4877-8bec-45f4184aac2b",
   "metadata": {},
   "outputs": [],
   "source": [
    "def create_plot(result_type, model):\n",
    "    real = pd.read_csv(f'../clean_data/test_{result_type}.csv')\n",
    "    pred = pd.read_csv(f'../clean_results/{model}/{result_type}.txt', sep='\\t')\n",
    "\n",
    "    y_true = real['label']\n",
    "    y_pred = pred['prediction']\n",
    "    labels = real['label'].unique()\n",
    "\n",
    "    bal = balanced_accuracy_score(y_true, y_pred)\n",
    "    macro_f1 = f1_score(y_true, y_pred, average='macro')\n",
    "\n",
    "    fig = plt.figure()\n",
    "    ax = fig.gca()\n",
    "\n",
    "    strategy_name = ''\n",
    "    if result_type == 'l':\n",
    "        strategy_name = 'Loc'\n",
    "    elif result_type == 'l_context':\n",
    "        strategy_name = 'Loc+Context'\n",
    "    elif result_type == 'i':\n",
    "        strategy_name = 'Prop'\n",
    "    elif result_type == 'i_context':\n",
    "        strategy_name = 'Prop+Context'\n",
    "\n",
    "    labels = ['inference', 'conflict', 'rephrase', 'no_rel']\n",
    "    display_labels = ['inference', 'conflict', 'rephrase', 'no rel.']\n",
    "    \n",
    "    ax.set_title(f'{model}, {strategy_name}, macro f1: {macro_f1:.2f}')\n",
    "    disp = ConfusionMatrixDisplay.from_predictions(y_true, y_pred, labels=labels, display_labels=display_labels, colorbar=False, ax=ax, xticks_rotation=45)\n",
    "    plt.show()"
   ]
  },
  {
   "cell_type": "code",
   "execution_count": null,
   "id": "0caac671-0051-46f6-b99e-b0640dfbbab3",
   "metadata": {},
   "outputs": [],
   "source": [
    "create_plot('i', 'bert-large-cased')\n",
    "create_plot('i_context', 'bert-large-cased')\n",
    "create_plot('l', 'bert-large-cased')\n",
    "create_plot('l_context', 'bert-large-cased')\n",
    "\n",
    "create_plot('i', 'roberta-large')\n",
    "create_plot('i_context', 'roberta-large')\n",
    "create_plot('l', 'roberta-large')\n",
    "create_plot('l_context', 'roberta-large')"
   ]
  }
 ],
 "metadata": {
  "kernelspec": {
   "display_name": "Python 3 (ipykernel)",
   "language": "python",
   "name": "python3"
  },
  "language_info": {
   "codemirror_mode": {
    "name": "ipython",
    "version": 3
   },
   "file_extension": ".py",
   "mimetype": "text/x-python",
   "name": "python",
   "nbconvert_exporter": "python",
   "pygments_lexer": "ipython3",
   "version": "3.11.5"
  }
 },
 "nbformat": 4,
 "nbformat_minor": 5
}
